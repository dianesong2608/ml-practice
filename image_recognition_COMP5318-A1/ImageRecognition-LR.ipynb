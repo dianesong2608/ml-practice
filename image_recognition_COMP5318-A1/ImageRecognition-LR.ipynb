{
 "cells": [
  {
   "cell_type": "code",
   "execution_count": 1,
   "metadata": {},
   "outputs": [],
   "source": [
    "import h5py\n",
    "import time\n",
    "import warnings\n",
    "\n",
    "# data processing\n",
    "import numpy as np\n",
    "import pandas as pd\n",
    "\n",
    "# visualization\n",
    "import matplotlib.pyplot as plt\n",
    "import seaborn as sns\n",
    "%matplotlib inline"
   ]
  },
  {
   "cell_type": "markdown",
   "metadata": {},
   "source": [
    "## 1. Load Datasets"
   ]
  },
  {
   "cell_type": "code",
   "execution_count": 2,
   "metadata": {},
   "outputs": [],
   "source": [
    "with h5py.File('input/data/train/images_training.h5','r') as H:\n",
    "    data_train = np.copy(H['datatrain'])\n",
    "\n",
    "with h5py.File('input/data/train/labels_training.h5','r') as H:\n",
    "    label_train = np.copy(H['labeltrain'])\n",
    "\n",
    "with h5py.File('input/data/test/images_testing.h5','r') as H:\n",
    "    data_test = np.copy(H['datatest'])\n",
    "\n",
    "with h5py.File('input/data/test/labels_testing_2000.h5','r') as H:\n",
    "    label_test = np.copy(H['labeltest'])"
   ]
  },
  {
   "cell_type": "code",
   "execution_count": 3,
   "metadata": {},
   "outputs": [
    {
     "data": {
      "text/plain": [
       "(30000, 784)"
      ]
     },
     "execution_count": 3,
     "metadata": {},
     "output_type": "execute_result"
    }
   ],
   "source": [
    "data_train.shape"
   ]
  },
  {
   "cell_type": "code",
   "execution_count": 4,
   "metadata": {},
   "outputs": [
    {
     "data": {
      "text/plain": [
       "(30000,)"
      ]
     },
     "execution_count": 4,
     "metadata": {},
     "output_type": "execute_result"
    }
   ],
   "source": [
    "label_train.shape"
   ]
  },
  {
   "cell_type": "code",
   "execution_count": 5,
   "metadata": {},
   "outputs": [
    {
     "data": {
      "text/plain": [
       "(10000, 784)"
      ]
     },
     "execution_count": 5,
     "metadata": {},
     "output_type": "execute_result"
    }
   ],
   "source": [
    "data_test.shape"
   ]
  },
  {
   "cell_type": "code",
   "execution_count": 6,
   "metadata": {},
   "outputs": [
    {
     "data": {
      "text/plain": [
       "(2000,)"
      ]
     },
     "execution_count": 6,
     "metadata": {},
     "output_type": "execute_result"
    }
   ],
   "source": [
    "label_test.shape"
   ]
  },
  {
   "cell_type": "code",
   "execution_count": 7,
   "metadata": {},
   "outputs": [],
   "source": [
    "X_train = data_train\n",
    "y_train = label_train\n",
    "\n",
    "X_test = data_test[:2000]\n",
    "y_test = label_test"
   ]
  },
  {
   "cell_type": "markdown",
   "metadata": {},
   "source": [
    "## 2. Data Preprocessing"
   ]
  },
  {
   "cell_type": "markdown",
   "metadata": {},
   "source": [
    "In this section, it contains two modules, one is splitting datasets into training and validation datasets, and the other is utilizing PCA to reduce dimension."
   ]
  },
  {
   "cell_type": "markdown",
   "metadata": {},
   "source": [
    "### 2.1 training, validation datasets - split"
   ]
  },
  {
   "cell_type": "code",
   "execution_count": 8,
   "metadata": {},
   "outputs": [],
   "source": [
    "\"\"\"\n",
    "Splitting dataset into training and validation these two datasets.\n",
    "\n",
    "Parameters:\n",
    "    X - The original dataset\n",
    "    y - The labels of dataset\n",
    "    valid_ratio - The percentage of validation dataset, the value should be in (0, 1).\n",
    "\"\"\"\n",
    "\n",
    "def train_validate_split(X, y, valid_ratio):\n",
    "    if (valid_ratio > 1) or (valid_ratio < 0):\n",
    "        raise ValueError(\"The ratio of validation dataset must be between 0 and 1.\")\n",
    "    \n",
    "    shuffled_idx = np.random.permutation(len(data_train))\n",
    "    \n",
    "    train_len = int(len(shuffled_idx) * (1- valid_ratio))\n",
    "    \n",
    "    train_idx = shuffled_idx[:train_len]\n",
    "    valid_idx = shuffled_idx[train_len:]\n",
    "    \n",
    "    return X[train_idx], X[valid_idx], y[train_idx], y[valid_idx]  "
   ]
  },
  {
   "cell_type": "code",
   "execution_count": 9,
   "metadata": {
    "scrolled": true
   },
   "outputs": [
    {
     "name": "stdout",
     "output_type": "stream",
     "text": [
      "X_train.shape (24000, 784)\n",
      "y_train.shape (24000,)\n",
      "X_valid.shape (6000, 784)\n",
      "y_valid.shape (6000,)\n",
      "X_test.shape (2000, 784)\n",
      "y_test.shape (2000,)\n"
     ]
    }
   ],
   "source": [
    "X_train, X_valid, y_train, y_valid = train_validate_split(data_train, label_train, 0.2)\n",
    "\n",
    "X_test = data_test[:2000]\n",
    "y_test = label_test\n",
    "\n",
    "print(\"X_train.shape\", X_train.shape)\n",
    "print(\"y_train.shape\", y_train.shape)\n",
    "\n",
    "print(\"X_valid.shape\", X_valid.shape)\n",
    "print(\"y_valid.shape\", y_valid.shape)\n",
    "\n",
    "print(\"X_test.shape\", X_test.shape)\n",
    "print(\"y_test.shape\", y_test.shape)"
   ]
  },
  {
   "cell_type": "markdown",
   "metadata": {},
   "source": [
    "### 2.2 PCA - Dimension Reduction"
   ]
  },
  {
   "cell_type": "code",
   "execution_count": 10,
   "metadata": {},
   "outputs": [
    {
     "data": {
      "text/plain": [
       "PCA(n_components = 90)"
      ]
     },
     "execution_count": 10,
     "metadata": {},
     "output_type": "execute_result"
    }
   ],
   "source": [
    "from PCA import PCA\n",
    "\n",
    "\"\"\"\n",
    "Create PCA class directly.\n",
    "\n",
    "Parameters:\n",
    "    n_components - The dimention after applying PCA.\n",
    "\"\"\"\n",
    "\n",
    "pca = PCA(90)\n",
    "pca.fit(X_train)"
   ]
  },
  {
   "cell_type": "code",
   "execution_count": 11,
   "metadata": {
    "scrolled": true
   },
   "outputs": [
    {
     "name": "stdout",
     "output_type": "stream",
     "text": [
      "X_train_reduction.shape (24000, 90)\n",
      "X_valid_reduction.shape (6000, 90)\n",
      "X_test_reduction.shape (2000, 90)\n"
     ]
    }
   ],
   "source": [
    "## Decomposition\n",
    "\n",
    "X_train_reduction = pca.transform(X_train)\n",
    "X_valid_reduction = pca.transform(X_valid)\n",
    "X_test_reduction = pca.transform(X_test)\n",
    "\n",
    "print(\"X_train_reduction.shape\", X_train_reduction.shape)\n",
    "print(\"X_valid_reduction.shape\", X_valid_reduction.shape)\n",
    "print(\"X_test_reduction.shape\", X_test_reduction.shape)"
   ]
  },
  {
   "cell_type": "code",
   "execution_count": 12,
   "metadata": {},
   "outputs": [],
   "source": [
    "def calc_similarity(X, X_inv):\n",
    "    return 1 - np.sum((X-X_inv)**2)/np.sum(X**2)"
   ]
  },
  {
   "cell_type": "code",
   "execution_count": 13,
   "metadata": {},
   "outputs": [],
   "source": [
    "X_train_redinv = pca.inverse_transform(X_train_reduction)"
   ]
  },
  {
   "cell_type": "code",
   "execution_count": 14,
   "metadata": {},
   "outputs": [
    {
     "data": {
      "text/plain": [
       "0.9595884268888623"
      ]
     },
     "execution_count": 14,
     "metadata": {},
     "output_type": "execute_result"
    }
   ],
   "source": [
    "calc_similarity(X_train, X_train_redinv)"
   ]
  },
  {
   "cell_type": "markdown",
   "metadata": {},
   "source": [
    "## 3. Model - LogisticRegression"
   ]
  },
  {
   "cell_type": "markdown",
   "metadata": {},
   "source": [
    "Since LogisticRegression can do binary classification task only, I import and compare the performance of applying OneVsRestClassifier and OneVsOneClassifier to implement multiclass classification respectively."
   ]
  },
  {
   "cell_type": "code",
   "execution_count": 15,
   "metadata": {},
   "outputs": [],
   "source": [
    "from LogisticRegression import LogisticRegression"
   ]
  },
  {
   "cell_type": "markdown",
   "metadata": {},
   "source": [
    "### 3.1 OneVsRestClassifier"
   ]
  },
  {
   "cell_type": "code",
   "execution_count": 16,
   "metadata": {},
   "outputs": [
    {
     "name": "stdout",
     "output_type": "stream",
     "text": [
      "CPU times: user 21min 25s, sys: 20.5 s, total: 21min 45s\n",
      "Wall time: 12min 13s\n"
     ]
    },
    {
     "data": {
      "text/plain": [
       "OneVsRestClassifier()"
      ]
     },
     "execution_count": 16,
     "metadata": {},
     "output_type": "execute_result"
    }
   ],
   "source": [
    "%%time\n",
    "from OneVsRestClassifier import OneVsRestClassifier\n",
    "\n",
    "ovr_clf = OneVsRestClassifier(LogisticRegression())\n",
    "ovr_clf.fit(X_train_reduction, y_train)"
   ]
  },
  {
   "cell_type": "code",
   "execution_count": 17,
   "metadata": {},
   "outputs": [
    {
     "name": "stdout",
     "output_type": "stream",
     "text": [
      "CPU times: user 1.09 s, sys: 12.8 ms, total: 1.1 s\n",
      "Wall time: 943 ms\n"
     ]
    }
   ],
   "source": [
    "%%time\n",
    "\n",
    "y_pred_valid_ovr = ovr_clf.predict(X_valid_reduction)"
   ]
  },
  {
   "cell_type": "code",
   "execution_count": 18,
   "metadata": {},
   "outputs": [
    {
     "name": "stdout",
     "output_type": "stream",
     "text": [
      "CPU times: user 306 ms, sys: 4.33 ms, total: 311 ms\n",
      "Wall time: 309 ms\n"
     ]
    }
   ],
   "source": [
    "%%time\n",
    "\n",
    "y_pred_test_ovr = ovr_clf.predict(X_test_reduction)"
   ]
  },
  {
   "cell_type": "markdown",
   "metadata": {},
   "source": [
    "### 3.3 OneVsOneClassifier"
   ]
  },
  {
   "cell_type": "code",
   "execution_count": 19,
   "metadata": {},
   "outputs": [
    {
     "name": "stdout",
     "output_type": "stream",
     "text": [
      "CPU times: user 16min 57s, sys: 15.3 s, total: 17min 12s\n",
      "Wall time: 9min 17s\n"
     ]
    },
    {
     "data": {
      "text/plain": [
       "OneVsOneClassifier()"
      ]
     },
     "execution_count": 19,
     "metadata": {},
     "output_type": "execute_result"
    }
   ],
   "source": [
    "%%time\n",
    "\n",
    "from OneVsOneClassifier import OneVsOneClassifier\n",
    "\n",
    "ovo_clf = OneVsOneClassifier(LogisticRegression())\n",
    "ovo_clf.fit(X_train_reduction, y_train)"
   ]
  },
  {
   "cell_type": "code",
   "execution_count": 20,
   "metadata": {},
   "outputs": [
    {
     "name": "stdout",
     "output_type": "stream",
     "text": [
      "CPU times: user 10.3 s, sys: 28.4 ms, total: 10.3 s\n",
      "Wall time: 10.1 s\n"
     ]
    }
   ],
   "source": [
    "%%time\n",
    "\n",
    "y_pred_valid_ovo = ovo_clf.predict(X_valid_reduction)"
   ]
  },
  {
   "cell_type": "code",
   "execution_count": 21,
   "metadata": {},
   "outputs": [
    {
     "name": "stdout",
     "output_type": "stream",
     "text": [
      "CPU times: user 3.37 s, sys: 12 ms, total: 3.38 s\n",
      "Wall time: 3.39 s\n"
     ]
    }
   ],
   "source": [
    "%%time\n",
    "\n",
    "y_pred_test_ovo = ovo_clf.predict(X_test_reduction)"
   ]
  },
  {
   "cell_type": "markdown",
   "metadata": {},
   "source": [
    "## 4. Metrics"
   ]
  },
  {
   "cell_type": "markdown",
   "metadata": {},
   "source": [
    "In this section, it will show the performance of model through accuracy, confusion matrix, precision, recall and F1 score."
   ]
  },
  {
   "cell_type": "markdown",
   "metadata": {},
   "source": [
    "### 4.1 accuracy_score"
   ]
  },
  {
   "cell_type": "code",
   "execution_count": 22,
   "metadata": {},
   "outputs": [
    {
     "name": "stdout",
     "output_type": "stream",
     "text": [
      "OvR 0.8083333333333333\n",
      "OvO 0.842\n"
     ]
    }
   ],
   "source": [
    "from metrics import accuracy_score\n",
    "\n",
    "## validation dataset\n",
    "print(\"OvR\", accuracy_score(y_valid, y_pred_valid_ovr))\n",
    "print(\"OvO\", accuracy_score(y_valid, y_pred_valid_ovo))"
   ]
  },
  {
   "cell_type": "code",
   "execution_count": 23,
   "metadata": {},
   "outputs": [
    {
     "name": "stdout",
     "output_type": "stream",
     "text": [
      "OvR 0.811\n",
      "OvO 0.8305\n"
     ]
    }
   ],
   "source": [
    "## test dataset\n",
    "print(\"OvR\", accuracy_score(y_test, y_pred_test_ovr))\n",
    "print(\"OvO\", accuracy_score(y_test, y_pred_test_ovo))"
   ]
  },
  {
   "cell_type": "markdown",
   "metadata": {},
   "source": [
    "### 4.2 confusion_matrix"
   ]
  },
  {
   "cell_type": "code",
   "execution_count": 24,
   "metadata": {},
   "outputs": [],
   "source": [
    "from metrics import confusion_matrix\n",
    "\n",
    "def plot_confusion_matrix(data, title):\n",
    "    sns.set_style(\"whitegrid\")\n",
    "    plt.figure(figsize=(8, 5))\n",
    "\n",
    "    ax = sns.heatmap(data, annot=True, fmt=\"d\", cmap=\"YlGnBu\")\n",
    "    plt.title(\"Confusion Matrix - \" + title, fontsize=\"14\")\n",
    "    plt.xlabel(\"Actual\", fontsize=\"12\")\n",
    "    plt.ylabel(\"Predict\", fontsize=\"12\")\n",
    "    plt.show()"
   ]
  },
  {
   "cell_type": "code",
   "execution_count": 25,
   "metadata": {
    "scrolled": false
   },
   "outputs": [
    {
     "data": {
      "image/png": "[encoded data removed]",
      "text/plain": [
       "<Figure size 576x360 with 2 Axes>"
      ]
     },
     "metadata": {},
     "output_type": "display_data"
    }
   ],
   "source": [
    "# OneVsRestClassifier\n",
    "cm_ovr = confusion_matrix(y_test, y_pred_test_ovr)\n",
    "\n",
    "plot_confusion_matrix(cm_ovr, \"OneVsRestClassifier\")"
   ]
  },
  {
   "cell_type": "code",
   "execution_count": 26,
   "metadata": {
    "scrolled": true
   },
   "outputs": [
    {
     "data": {
      "image/png": "[encoded data removed]",
      "text/plain": [
       "<Figure size 576x360 with 2 Axes>"
      ]
     },
     "metadata": {},
     "output_type": "display_data"
    }
   ],
   "source": [
    "# OneVsOneClassifier\n",
    "cm_ovo = confusion_matrix(y_test, y_pred_test_ovo)\n",
    "\n",
    "plot_confusion_matrix(cm_ovo, \"OneVsOneClassifier\")"
   ]
  },
  {
   "cell_type": "markdown",
   "metadata": {},
   "source": [
    "### 4.3 precision & recall"
   ]
  },
  {
   "cell_type": "code",
   "execution_count": 27,
   "metadata": {},
   "outputs": [
    {
     "data": {
      "text/plain": [
       "col_0\n",
       "0    0.809756\n",
       "1    0.959538\n",
       "2    0.673575\n",
       "3    0.861111\n",
       "4    0.723810\n",
       "5    0.948276\n",
       "6    0.604278\n",
       "7    0.883721\n",
       "8    0.918552\n",
       "9    0.922330\n",
       "dtype: float64"
      ]
     },
     "execution_count": 27,
     "metadata": {},
     "output_type": "execute_result"
    }
   ],
   "source": [
    "from metrics import precision, recall\n",
    "\n",
    "cm_precision_ovo = precision(y_test, y_pred_test_ovo)\n",
    "cm_precision_ovo"
   ]
  },
  {
   "cell_type": "code",
   "execution_count": 28,
   "metadata": {},
   "outputs": [
    {
     "data": {
      "text/plain": [
       "row_0\n",
       "0    0.790476\n",
       "1    0.954023\n",
       "2    0.760234\n",
       "3    0.849315\n",
       "4    0.727273\n",
       "5    0.877660\n",
       "6    0.535545\n",
       "7    0.945274\n",
       "8    0.957547\n",
       "9    0.926829\n",
       "dtype: float64"
      ]
     },
     "execution_count": 28,
     "metadata": {},
     "output_type": "execute_result"
    }
   ],
   "source": [
    "cm_recall_ovo = recall(y_test, y_pred_test_ovo)\n",
    "cm_recall_ovo"
   ]
  },
  {
   "cell_type": "markdown",
   "metadata": {},
   "source": [
    "### 4.4 F1 score"
   ]
  },
  {
   "cell_type": "code",
   "execution_count": 29,
   "metadata": {},
   "outputs": [
    {
     "data": {
      "text/plain": [
       "col_0\n",
       "0    0.787440\n",
       "1    0.959538\n",
       "2    0.673684\n",
       "3    0.823789\n",
       "4    0.716628\n",
       "5    0.879552\n",
       "6    0.511236\n",
       "7    0.888350\n",
       "8    0.919908\n",
       "9    0.925659\n",
       "dtype: float64"
      ]
     },
     "execution_count": 29,
     "metadata": {},
     "output_type": "execute_result"
    }
   ],
   "source": [
    "from metrics import f1_score\n",
    "\n",
    "F1_ovr = f1_score(y_test, y_pred_test_ovr)\n",
    "F1_ovr"
   ]
  },
  {
   "cell_type": "code",
   "execution_count": 30,
   "metadata": {},
   "outputs": [
    {
     "data": {
      "text/plain": [
       "col_0\n",
       "0    0.800000\n",
       "1    0.956772\n",
       "2    0.714286\n",
       "3    0.855172\n",
       "4    0.725537\n",
       "5    0.911602\n",
       "6    0.567839\n",
       "7    0.913462\n",
       "8    0.937644\n",
       "9    0.924574\n",
       "dtype: float64"
      ]
     },
     "execution_count": 30,
     "metadata": {},
     "output_type": "execute_result"
    }
   ],
   "source": [
    "F1_ovo = f1_score(y_test, y_pred_test_ovo)\n",
    "F1_ovo"
   ]
  },
  {
   "cell_type": "code",
   "execution_count": null,
   "metadata": {},
   "outputs": [],
   "source": []
  }
 ],
 "metadata": {
  "kernelspec": {
   "display_name": "Python 3",
   "language": "python",
   "name": "python3"
  },
  "language_info": {
   "codemirror_mode": {
    "name": "ipython",
    "version": 3
   },
   "file_extension": ".py",
   "mimetype": "text/x-python",
   "name": "python",
   "nbconvert_exporter": "python",
   "pygments_lexer": "ipython3",
   "version": "3.8.5"
  }
 },
 "nbformat": 4,
 "nbformat_minor": 4
}
